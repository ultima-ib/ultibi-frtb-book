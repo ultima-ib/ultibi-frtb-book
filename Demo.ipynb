{
 "cells": [
  {
   "cell_type": "code",
   "execution_count": 15,
   "id": "3dd3542f",
   "metadata": {},
   "outputs": [
    {
     "data": {
      "text/html": [
       "<style>.container { width:100% !important; }</style>"
      ],
      "text/plain": [
       "<IPython.core.display.HTML object>"
      ]
     },
     "metadata": {},
     "output_type": "display_data"
    }
   ],
   "source": [
    "import ultibi as ul\n",
    "import polars as pl\n",
    "from IPython.display import display, HTML\n",
    "display(HTML(\"<style>.container { width:100% !important; }</style>\"))"
   ]
  },
  {
   "cell_type": "code",
   "execution_count": 5,
   "id": "c0cee27d",
   "metadata": {
    "collapsed": true
   },
   "outputs": [
    {
     "name": "stdout",
     "output_type": "stream",
     "text": [
      "{'CSR secCTP CurvatureCharge High': 'scalar', 'CSR nonSec CVRdown': None, 'FX Curvature KbPlus': 'scalar', 'DRC_SecNonCTP_NetShortJTD': 'scalar', 'GIRR Curvature KbPlus': 'scalar', 'EQ CurvatureDelta_Weighted': None, 'Commodity Curvature KbMinus Medium': 'scalar', 'EQ Curvature KbMinus High': 'scalar', 'FX VegaKb Medium': 'scalar', 'CSR nonSec VegaSens': None, 'Commodity Curvature KbMinus Low': 'scalar', 'GIRR VegaKb High': 'scalar', 'CSR_secCTP_TotalCharge_High': 'scalar', 'CSR secCTP DeltaCharge Medium': 'scalar', 'CSR Sec nonCTP Curvature KbMinus Low': 'scalar', 'FX DeltaSens Weighted': None, 'CSR nonSec DeltaCharge Low': 'scalar', 'Commodity TotalCharge Low': 'scalar', 'EQ CVRdown': None, 'GIRR Curvature Kb': 'scalar', 'CSR nonSec DeltaCharge MAX': 'scalar', 'Commodity DeltaKb Medium': 'scalar', 'GIRR VegaCharge High': 'scalar', 'CSR secCTP Curvature Kb High': 'scalar', 'DRC_NonSec_CapitalCharge': 'scalar', 'FX PnLdown': None, 'Commodity DeltaSens': None, 'Sensitivity_025Y': None, 'EQ DeltaSens Weighted': None, 'SensitivitySpot': None, 'CSR Sec nonCTP CurvatureCharge High': 'scalar', 'CSR nonSec TotalCharge High': 'scalar', 'GIRR VegaKb Low': 'scalar', 'DRC_SecNonCTP_NetShortJTD_Weighted': 'scalar', 'CSR Sec nonCTP CurvatureCharge MAX': 'scalar', 'Commodity CurvatureDelta': None, 'EQ CurvatureCharge High': 'scalar', 'FX VegaKb High': 'scalar', 'Sensitivity_05Y': None, 'CSR Sec nonCTP Curvature Sb Low': 'scalar', 'CSR nonSec PnLdown': None, 'CSR secCTP Curvature KbMinus Medium': 'scalar', 'PnL_Down': None, 'EQ Curvature Sb Medium': 'scalar', 'Commodity Curvature Sb Low': 'scalar', 'CSR Sec nonCTP DeltaCharge Low': 'scalar', 'FX CVRdown': None, 'FX TotalCharge High': 'scalar', 'FX PnLup': None, 'CSR Sec nonCTP Curvature Sb High': 'scalar', 'CSR secCTP DeltaKb Low': 'scalar', 'Commodity TotalCharge MAX': 'scalar', 'FX VegaSens': None, 'CSR Sec nonCTP Curvature Kb Low': 'scalar', 'GrossJTD': None, 'CSR Sec nonCTP CurvatureCharge Medium': 'scalar', 'CSR nonSec VegaCharge MAX': 'scalar', 'Commodity VegaCharge Medium': 'scalar', 'FX Curvature KbMinus': 'scalar', 'CSR nonSec CurvatureCharge MAX': 'scalar', 'EQ DeltaKb Medium': 'scalar', 'FX VegaSens Weighted': None, 'CSR secCTP VegaSens Weighted': None, 'Commodity CVRup': None, 'FX DeltaSens': None, 'FX VegaCharge MAX': 'scalar', 'CSR secCTP CurvatureDelta': None, 'CSR nonSec DeltaCharge High': 'scalar', 'SBM Charge High': 'scalar', 'Sensitivity_10Y': None, 'CSR secCTP DeltaCharge Low': 'scalar', 'Sensitivity_15Y': None, 'GIRR VegaSens': None, 'EQ DeltaKb High': 'scalar', 'CSR secCTP DeltaCharge High': 'scalar', 'CSR secCTP Curvature KbPlus Medium': 'scalar', 'EQ TotalCharge Medium': 'scalar', 'Commodity DeltaCharge MAX': 'scalar', 'GIRR DeltaCharge High': 'scalar', 'CSR nonSec Curvature KbPlus High': 'scalar', 'EQ VegaKb High': 'scalar', 'CSR secCTP DeltaSens': None, 'GIRR CurvatureCharge Low': 'scalar', 'Commodity Curvature KbMinus High': 'scalar', 'CSR nonSec DeltaSens': None, 'EQ VegaCharge High': 'scalar', 'EQ VegaCharge MAX': 'scalar', 'EQ TotalCharge Low': 'scalar', 'CSR Sec nonCTP Curvature Kb High': 'scalar', 'EQ PnLdown': None, 'FX DeltaKb': 'scalar', 'DRC_NonSec_NetLongJTD_Weighted': 'scalar', 'EQ CurvatureDelta': None, 'FX CVRup': None, 'EQ CurvatureCharge Medium': 'scalar', 'FX CurvatureCharge MAX': 'scalar', 'SBM Charge': 'scalar', 'EQ TotalCharge High': 'scalar', 'CSR secCTP CurvatureCharge MAX': 'scalar', 'GIRR DeltaSens': None, 'Commodity VegaSb': 'scalar', 'FX CurvatureDelta Weighted': None, 'CSR secCTP PnLdown': None, 'Commodity Curvature KbPlus Medium': 'scalar', 'EQ VegaCharge Medium': 'scalar', 'Commodity CurvatureCharge High': 'scalar', 'CSR Sec nonCTP DeltaCharge Medium': 'scalar', 'GIRR CVRup': None, 'EQ DeltaKb Low': 'scalar', 'Exotic_RRAO_Notional': None, 'CSR Sec nonCTP VegaSb': 'scalar', 'CSR Sec nonCTP CurvatureDelta Weighted': None, 'PnL_Up': None, 'Commodity VegaKb High': 'scalar', 'CSR Sec nonCTP DeltaSens Weighted': None, 'EQ Curvature Kb Low': 'scalar', 'Commodity Curvature Sb High': 'scalar', 'CSR nonSec CurvatureCharge High': 'scalar', 'CSR nonSec DeltaKb Medium': 'scalar', 'CSR Sec nonCTP DeltaCharge MAX': 'scalar', 'Commodity Curvature Kb High': 'scalar', 'CSR nonSec CurvatureDelta': None, 'CSR Sec nonCTP VegaCharge High': 'scalar', 'Commodity Curvature Kb Low': 'scalar', 'CSR secCTP CurvatureDelta_Weighted': None, 'GIRR PnLup': None, 'CSR Sec nonCTP DeltaKb High': 'scalar', 'CSR secCTP VegaKb Low': 'scalar', 'FX DeltaCharge Low': 'scalar', 'GIRR DeltaCharge Medium': 'scalar', 'CSR secCTP VegaSb': 'scalar', 'GIRR CVRdown': None, 'FX VegaKb Low': 'scalar', 'Other_RRAO_Charge': None, 'CSR nonSec Curvature KbPlus Medium': 'scalar', 'CSR secCTP VegaKb High': 'scalar', 'CSR secCTP PnLup': None, 'Commodity Curvature KbPlus Low': 'scalar', 'EQ CurvatureCharge Low': 'scalar', 'EQ Curvature Kb Medium': 'scalar', 'CSR Sec nonCTP Curvature KbPlus High': 'scalar', 'GIRR TotalCharge Medium': 'scalar', 'CSR Sec nonCTP DeltaSens': None, 'CSR Sec nonCTP TotalCharge Medium': 'scalar', 'EQ CurvatureCharge MAX': 'scalar', 'FX Curvature Kb': 'scalar', 'CSR nonSec DeltaKb Low': 'scalar', 'Commodity VegaSens Weighted': None, 'CSR nonSec VegaSb': 'scalar', 'EQ Curvature KbMinus Low': 'scalar', 'DRC_SecNonCTP_NetLongJTD_Weighted': 'scalar', 'CSR nonSec CurvatureCharge Low': 'scalar', 'DRC_NonSec_GrossJTD_Scaled': None, 'FX VegaSb': 'scalar', 'GIRR VegaSb': 'scalar', 'EQ Curvature KbPlus High': 'scalar', 'CSR nonSec VegaSens Weighted': None, 'CSR secCTP Curvature KbPlus Low': 'scalar', 'CSR secCTP Curvature Sb High': 'scalar', 'CSR Sec nonCTP Curvature KbPlus Medium': 'scalar', 'Commodity PnLup': None, 'CSR Sec nonCTP CVRup': None, 'CSR secCTP VegaCharge Low': 'scalar', 'Sensitivity_20Y': None, 'CSR secCTP CurvatureCharge Medium': 'scalar', 'Sensitivity_2Y': None, 'FX CurvatureCharge High': 'scalar', 'CSR nonSec CurvatureDeltaWeighted': None, 'CSR secCTP DeltaSb': 'scalar', 'CSR Sec nonCTP VegaCharge Low': 'scalar', 'CSR Sec nonCTP VegaSens': None, 'CSR secCTP VegaKb Medium': 'scalar', 'FX CurvatureCharge Medium': 'scalar', 'CSR Sec nonCTP TotalCharge Low': 'scalar', 'DRC_NonSec_GrossJTD': None, 'DRC_SecNonCTP_HBR': 'scalar', 'DRC_NonSec_NetAbsShortJTD_Weighted': 'scalar', 'EQ Curvature KbPlus Medium': 'scalar', 'CSR nonSec CurvatureCharge Medium': 'scalar', 'CSR Sec nonCTP PnLup': None, 'CSR Sec nonCTP CurvatureDelta': None, 'Commodity DeltaSens Weighted': None, 'Commodity CurvatureDelta Weighted': None, 'CSR secCTP DeltaKb High': 'scalar', 'GIRR VegaCharge Medium': 'scalar', 'CSR secCTP CVRup': None, 'CSR secCTP DeltaSens Weighted': None, 'Commodity CurvatureCharge Low': 'scalar', 'FX DeltaSb': 'scalar', 'GIRR CurvatureDelta': None, 'CSR Sec nonCTP Curvature Sb Medium': 'scalar', 'Commodity DeltaKb High': 'scalar', 'CSR secCTP VegaCharge Medium': 'scalar', 'Notional': None, 'DRC_NonSec_NetLongJTD': 'scalar', 'CSR nonSec Curvature KbMinus Medium': 'scalar', 'CSR nonSec VegaCharge Low': 'scalar', 'FX DeltaCharge High': 'scalar', 'RiskWeights': 'first', 'CSR nonSec DeltaSb': 'scalar', 'GIRR CurvatureCharge MAX': 'scalar', 'EQ VegaSens': None, 'CSR Sec nonCTP VegaKb High': 'scalar', 'EQ CVRup': None, 'Commodity TotalCharge Medium': 'scalar', 'Commodity VegaKb Low': 'scalar', 'FX TotalCharge Low': 'scalar', 'FX DeltaCharge MAX': 'scalar', 'Commodity CurvatureCharge MAX': 'scalar', 'CSR secCTP DeltaCharge MAX': 'scalar', 'CSR Sec nonCTP PnLdown': None, 'CSR Sec nonCTP VegaCharge MAX': 'scalar', 'FX VegaCharge High': 'scalar', 'FX VegaCharge Low': 'scalar', 'CSR Sec nonCTP Curvature Kb Medium': 'scalar', 'CSR secCTP CurvatureCharge Low': 'scalar', 'CSR Sec nonCTP VegaKb Low': 'scalar', 'CSR secCTP Curvature KbMinus High': 'scalar', 'GIRR DeltaKb Medium': 'scalar', 'GIRR DeltaKb Low': 'scalar', 'EQ DeltaSens': None, 'GIRR VegaCharge Low': 'scalar', 'Commodity DeltaCharge Low': 'scalar', 'CSR secCTP Curvature KbPlus High': 'scalar', 'CSR nonSec Curvature KbPlus Low': 'scalar', 'GIRR CurvatureCharge High': 'scalar', 'EQ DeltaCharge High': 'scalar', 'EQ Curvature Sb Low': 'scalar', 'GIRR DeltaSens Weighted': None, 'GIRR Curvature KbMinus': 'scalar', 'CSR Sec nonCTP Curvature KbMinus High': 'scalar', 'Commodity Curvature Kb Medium': 'scalar', 'DRC_SecNonCTP_CapitalCharge': 'scalar', 'Commodity VegaCharge Low': 'scalar', 'FX TotalCharge Medium': 'scalar', 'GIRR DeltaKb High': 'scalar', 'CSR nonSec DeltaKb High': 'scalar', 'GIRR VegaSens Weighted': None, 'CSR nonSec Curvature KbMinus Low': 'scalar', 'CSR_secCTP_TotalCharge_Medium': 'scalar', 'CSR Sec nonCTP TotalCharge High': 'scalar', 'EQ Curvature KbMinus Medium': 'scalar', 'GIRR CurvatureCharge Medium': 'scalar', 'CSR Sec nonCTP Curvature KbMinus Medium': 'scalar', 'DRC_NonSec_HBR': 'scalar', 'FX VegaCharge Medium': 'scalar', 'GIRR TotalCharge High': 'scalar', 'Sensitivity_5Y': None, 'GIRR VegaCharge MAX': 'scalar', 'CSR nonSec Curvature Sb Medium': 'scalar', 'Commodity DeltaCharge Medium': 'scalar', 'EQ DeltaCharge Medium': 'scalar', 'Other_RRAO_Notional': None, 'CSR nonSec PnLup': None, 'EQ DeltaSb': 'scalar', 'EQ VegaSb': 'scalar', 'EQ Curvature Kb High': 'scalar', 'CSR Sec nonCTP Curvature KbPlus Low': 'scalar', 'EQ VegaKb Low': 'scalar', 'DRC_NonSec_NetShortJTD': 'scalar', 'Commodity PnLdown': None, 'CSR secCTP Curvature Sb Medium': 'scalar', 'CSR Sec nonCTP DeltaKb Low': 'scalar', 'DRC_SecNonCTP_GrossJTD': None, 'CSR nonSec TotalCharge Low': 'scalar', 'CSR Sec nonCTP DeltaSb': 'scalar', 'CSR nonSec VegaKb Medium': 'scalar', 'DRC_SecNonCTP_GrossJTD_Scaled': None, 'GIRR DeltaCharge MAX': 'scalar', 'GIRR DeltaSb': 'scalar', 'CSR Sec nonCTP DeltaKb Medium': 'scalar', 'Commodity DeltaSb': 'scalar', 'CSR Sec nonCTP VegaKb Medium': 'scalar', 'FX Curvature Sb': 'scalar', 'CSR secCTP VegaSens': None, 'CSR nonSec Curvature KbMinus High': 'scalar', 'SBM Charge Medium': 'scalar', 'GIRR Curvature Sb': 'scalar', 'CSR secCTP VegaCharge High': 'scalar', 'CSR Sec nonCTP VegaSens Weighted': None, 'CSR nonSec VegaKb High': 'scalar', 'CSR nonSec Curvature Kb High': 'scalar', 'Commodity CVRdown': None, 'CSR nonSec DeltaSens Weighted': None, 'CSR secCTP Curvature KbMinus Low': 'scalar', 'CSR Sec nonCTP VegaCharge Medium': 'scalar', 'GIRR CurvatureDelta Weighted': None, 'EQ PnLup': None, 'Exotic_RRAO_Charge': None, 'Commodity TotalCharge High': 'scalar', 'CSR nonSec Curvature Kb Low': 'scalar', 'CSR Sec nonCTP DeltaCharge High': 'scalar', 'SBM Charge Low': 'scalar', 'Commodity Curvature KbPlus High': 'scalar', 'Commodity VegaCharge MAX': 'scalar', 'CSR secCTP CVRdown': None, 'GIRR DeltaCharge Low': 'scalar', 'EQ DeltaCharge Low': 'scalar', 'GIRR VegaKb Medium': 'scalar', 'FX CurvatureCharge Low': 'scalar', 'CSR secCTP DeltaKb Medium': 'scalar', 'Commodity CurvatureCharge Medium': 'scalar', 'EQ Curvature Sb High': 'scalar', 'CSR secCTP Curvature Sb Low': 'scalar', 'CSR nonSec CVRup': None, 'CSR nonSec Curvature Sb High': 'scalar', 'Commodity VegaKb Medium': 'scalar', 'CSR nonSec VegaCharge Medium': 'scalar', 'EQ VegaKb Medium': 'scalar', 'Sensitivity_1Y': None, 'CSR secCTP Curvature Kb Medium': 'scalar', 'CSR nonSec Curvature Sb Low': 'scalar', 'GIRR TotalCharge Low': 'scalar', 'CSR nonSec TotalCharge MAX': 'scalar', 'Commodity DeltaKb Low': 'scalar', 'CSR nonSec VegaCharge High': 'scalar', 'DRC_SecNonCTP_NetLongJTD': 'scalar', 'CSR_secCTP_TotalCharge_Low': 'scalar', 'CSR Sec nonCTP TotalCharge MAX': 'scalar', 'Commodity VegaCharge High': 'scalar', 'EQ DeltaCharge MAX': 'scalar', 'CSR nonSec TotalCharge Medium': 'scalar', 'EQ Curvature KbPlus Low': 'scalar', 'FX DeltaCharge Medium': 'scalar', 'Commodity VegaSens': None, 'CSR nonSec Curvature Kb Medium': 'scalar', 'Commodity Curvature Sb Medium': 'scalar', 'CSR secCTP VegaCharge MAX': 'scalar', 'FX CurvatureDelta': None, 'EQ VegaSens Weighted': None, 'EQ VegaCharge Low': 'scalar', 'RRAO_Charge': 'scalar', 'Commodity DeltaCharge High': 'scalar', 'CSR nonSec DeltaCharge Medium': 'scalar', 'CSR nonSec VegaKb Low': 'scalar', 'Sensitivity_3Y': None, 'Sensitivity_30Y': None, 'CSR Sec nonCTP CVRdown': None, 'CSR secCTP Curvature Kb Low': 'scalar', 'GIRR PnLdown': None, 'CSR Sec nonCTP CurvatureCharge Low': 'scalar'}\n"
     ]
    },
    {
     "data": {
      "text/plain": [
       "['first',\n",
       " 'min',\n",
       " 'quantile95low',\n",
       " 'count',\n",
       " 'sum',\n",
       " 'var',\n",
       " 'count_unique',\n",
       " 'max',\n",
       " 'mean']"
      ]
     },
     "execution_count": 5,
     "metadata": {},
     "output_type": "execute_result"
    }
   ],
   "source": [
    "ds = ul.FRTBDataSet.from_config_path(\"./data/frtb/datasource_config.toml\")\n",
    "ds.prepare()\n",
    "print(ds.measures)"
   ]
  },
  {
   "cell_type": "code",
   "execution_count": 22,
   "id": "5694d8c1",
   "metadata": {},
   "outputs": [],
   "source": [
    "request = dict(\n",
    "    measures=[\n",
    "        [\"FX DeltaSens\", \"sum\"],\n",
    "        [\"FX DeltaSens Weighted\", \"sum\"],\n",
    "        [\"FX DeltaSb\", \"scalar\"],\n",
    "        [\"FX DeltaKb\", \"scalar\"],\n",
    "        [\"FX DeltaCharge Low\", \"scalar\"],\n",
    "        [\"FX DeltaCharge Medium\", \"scalar\"],\n",
    "        [\"FX DeltaCharge High\", \"scalar\"],\n",
    "        [\"FX DeltaCharge MAX\", \"scalar\"],\n",
    "        [\"SBM Charge\", \"scalar\"]\n",
    "    ],\n",
    "    groupby=[\"Desk\"],\n",
    "    hide_zeros=True,\n",
    "    calc_params={\n",
    "        \"jurisdiction\": \"BCBS\",\n",
    "        \"apply_fx_curv_div\": \"true\",\n",
    "        \"drc_offset\": \"true\",\n",
    "    },\n",
    ")"
   ]
  },
  {
   "cell_type": "code",
   "execution_count": 23,
   "id": "1ee06dfc",
   "metadata": {},
   "outputs": [],
   "source": [
    "result = ds.execute(request)"
   ]
  },
  {
   "cell_type": "code",
   "execution_count": 24,
   "id": "f4189719",
   "metadata": {},
   "outputs": [
    {
     "name": "stdout",
     "output_type": "stream",
     "text": [
      "shape: (4, 10)\n",
      "┌───────────┬──────────────────┬───────────────────────────┬──────────────┬─────┬───────────────────────┬─────────────────────┬────────────────────┬───────────────┐\n",
      "│ Desk      ┆ FX DeltaSens_sum ┆ FX DeltaSens Weighted_sum ┆ FX DeltaSb   ┆ ... ┆ FX DeltaCharge Medium ┆ FX DeltaCharge High ┆ FX DeltaCharge MAX ┆ SBM Charge    │\n",
      "│ ---       ┆ ---              ┆ ---                       ┆ ---          ┆     ┆ ---                   ┆ ---                 ┆ ---                ┆ ---           │\n",
      "│ str       ┆ f64              ┆ f64                       ┆ f64          ┆     ┆ f64                   ┆ f64                 ┆ f64                ┆ f64           │\n",
      "╞═══════════╪══════════════════╪═══════════════════════════╪══════════════╪═════╪═══════════════════════╪═════════════════════╪════════════════════╪═══════════════╡\n",
      "│ FXOptions ┆ 115.0            ┆ 12.197592                 ┆ 12.197592    ┆ ... ┆ 11.803866             ┆ 11.953033           ┆ 11.953033          ┆ 362548.784885 │\n",
      "│ Rates     ┆ -8.5             ┆ -1.49467                  ┆ -1.49467     ┆ ... ┆ 1.758742              ┆ 1.664631            ┆ 1.848066           ┆ 89827.335093  │\n",
      "│ RatesEM   ┆ 369000.0         ┆ 39138.360339              ┆ 39138.360339 ┆ ... ┆ 35489.283594          ┆ 36900.0             ┆ 36900.0            ┆ 115088.185772 │\n",
      "│ FXCash    ┆ null             ┆ null                      ┆ 0.0          ┆ ... ┆ 0.0                   ┆ 0.0                 ┆ 0.0                ┆ 12616.465021  │\n",
      "└───────────┴──────────────────┴───────────────────────────┴──────────────┴─────┴───────────────────────┴─────────────────────┴────────────────────┴───────────────┘\n"
     ]
    }
   ],
   "source": [
    "print(result)"
   ]
  },
  {
   "cell_type": "code",
   "execution_count": null,
   "id": "8c5676d5",
   "metadata": {},
   "outputs": [],
   "source": []
  }
 ],
 "metadata": {
  "kernelspec": {
   "display_name": "Python 3 (ipykernel)",
   "language": "python",
   "name": "python3"
  },
  "language_info": {
   "codemirror_mode": {
    "name": "ipython",
    "version": 3
   },
   "file_extension": ".py",
   "mimetype": "text/x-python",
   "name": "python",
   "nbconvert_exporter": "python",
   "pygments_lexer": "ipython3",
   "version": "3.11.0"
  }
 },
 "nbformat": 4,
 "nbformat_minor": 5
}
