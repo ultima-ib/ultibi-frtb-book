{
 "cells": [
  {
   "cell_type": "code",
   "execution_count": 1,
   "id": "3dd3542f",
   "metadata": {},
   "outputs": [
    {
     "data": {
      "text/html": [
       "<style>.container { width:100% !important; }</style>"
      ],
      "text/plain": [
       "<IPython.core.display.HTML object>"
      ]
     },
     "metadata": {},
     "output_type": "display_data"
    }
   ],
   "source": [
    "import ultibi as ul\n",
    "import polars as pl\n",
    "from IPython.display import display, HTML\n",
    "display(HTML(\"<style>.container { width:100% !important; }</style>\"))"
   ]
  },
  {
   "cell_type": "code",
   "execution_count": null,
   "id": "c0cee27d",
   "metadata": {},
   "outputs": [],
   "source": [
    "ds = ul.FRTBDataSet.from_config_path(\"./data/frtb/datasource_config.toml\")\n",
    "ds.prepare()\n",
    "# if you want to check supported measures: print(ds.measures)"
   ]
  },
  {
   "cell_type": "code",
   "execution_count": 3,
   "id": "5694d8c1",
   "metadata": {},
   "outputs": [],
   "source": [
    "request = dict(\n",
    "    measures=[\n",
    "        [\"FX DeltaSens\", \"sum\"],\n",
    "        [\"FX DeltaSens Weighted\", \"sum\"],\n",
    "        [\"FX DeltaSb\", \"scalar\"],\n",
    "        [\"FX DeltaKb\", \"scalar\"],\n",
    "        [\"FX DeltaCharge Low\", \"scalar\"],\n",
    "        [\"FX DeltaCharge Medium\", \"scalar\"],\n",
    "        [\"FX DeltaCharge High\", \"scalar\"],\n",
    "        [\"FX DeltaCharge MAX\", \"scalar\"],\n",
    "        [\"SBM Charge\", \"scalar\"]\n",
    "    ],\n",
    "    groupby=[\"Desk\"],\n",
    "    hide_zeros=True,\n",
    "    calc_params={\n",
    "        \"jurisdiction\": \"BCBS\",\n",
    "        \"apply_fx_curv_div\": \"true\",\n",
    "        \"drc_offset\": \"true\",\n",
    "    },\n",
    ")"
   ]
  },
  {
   "cell_type": "code",
   "execution_count": 4,
   "id": "1ee06dfc",
   "metadata": {},
   "outputs": [],
   "source": [
    "result = ds.execute(request)"
   ]
  },
  {
   "cell_type": "code",
   "execution_count": 5,
   "id": "f4189719",
   "metadata": {},
   "outputs": [
    {
     "name": "stdout",
     "output_type": "stream",
     "text": [
      "shape: (4, 10)\n",
      "┌───────────┬──────────────────┬───────────────────────────┬──────────────┬─────┬───────────────────────┬─────────────────────┬────────────────────┬───────────────┐\n",
      "│ Desk      ┆ FX DeltaSens_sum ┆ FX DeltaSens Weighted_sum ┆ FX DeltaSb   ┆ ... ┆ FX DeltaCharge Medium ┆ FX DeltaCharge High ┆ FX DeltaCharge MAX ┆ SBM Charge    │\n",
      "│ ---       ┆ ---              ┆ ---                       ┆ ---          ┆     ┆ ---                   ┆ ---                 ┆ ---                ┆ ---           │\n",
      "│ str       ┆ f64              ┆ f64                       ┆ f64          ┆     ┆ f64                   ┆ f64                 ┆ f64                ┆ f64           │\n",
      "╞═══════════╪══════════════════╪═══════════════════════════╪══════════════╪═════╪═══════════════════════╪═════════════════════╪════════════════════╪═══════════════╡\n",
      "│ FXOptions ┆ 115.0            ┆ 12.197592                 ┆ 12.197592    ┆ ... ┆ 11.803866             ┆ 11.953033           ┆ 11.953033          ┆ 362548.784885 │\n",
      "│ Rates     ┆ -8.5             ┆ -1.49467                  ┆ -1.49467     ┆ ... ┆ 1.758742              ┆ 1.664631            ┆ 1.848066           ┆ 89827.335093  │\n",
      "│ RatesEM   ┆ 369000.0         ┆ 39138.360339              ┆ 39138.360339 ┆ ... ┆ 35489.283594          ┆ 36900.0             ┆ 36900.0            ┆ 115088.185772 │\n",
      "│ FXCash    ┆ null             ┆ null                      ┆ 0.0          ┆ ... ┆ 0.0                   ┆ 0.0                 ┆ 0.0                ┆ 12616.465021  │\n",
      "└───────────┴──────────────────┴───────────────────────────┴──────────────┴─────┴───────────────────────┴─────────────────────┴────────────────────┴───────────────┘\n"
     ]
    }
   ],
   "source": [
    "print(result)"
   ]
  },
  {
   "cell_type": "code",
   "execution_count": null,
   "id": "8c5676d5",
   "metadata": {},
   "outputs": [],
   "source": []
  }
 ],
 "metadata": {
  "kernelspec": {
   "display_name": "Python 3 (ipykernel)",
   "language": "python",
   "name": "python3"
  },
  "language_info": {
   "codemirror_mode": {
    "name": "ipython",
    "version": 3
   },
   "file_extension": ".py",
   "mimetype": "text/x-python",
   "name": "python",
   "nbconvert_exporter": "python",
   "pygments_lexer": "ipython3",
   "version": "3.11.0"
  }
 },
 "nbformat": 4,
 "nbformat_minor": 5
}
